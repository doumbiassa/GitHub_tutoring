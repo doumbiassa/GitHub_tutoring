{
 "cells": [
  {
   "cell_type": "markdown",
   "id": "eef35a87",
   "metadata": {},
   "source": [
    "* Bsic Operations\n",
    "     * Comparison Operators\n",
    "     * if, elif, else ststements\n",
    "     * for loops\n",
    "     * while loops\n",
    "     * range()\n",
    "     * list comprehension\n",
    "     * functions\n",
    "     * lambda expressions\n",
    "     * map and filter"
   ]
  },
  {
   "cell_type": "markdown",
   "id": "8d8cbb92",
   "metadata": {},
   "source": [
    "* ## Range()"
   ]
  },
  {
   "cell_type": "code",
   "execution_count": null,
   "id": "541c7aaf",
   "metadata": {},
   "outputs": [],
   "source": [
    "range(1,11) # This will return 1,2,3,4,5,6,7,8,9,10\n",
    "#Will return Numbers between 1 includ and 11 excluded\n"
   ]
  },
  {
   "cell_type": "code",
   "execution_count": null,
   "id": "ebcac101",
   "metadata": {},
   "outputs": [],
   "source": [
    "range(1,11,2) # This will return 1,3,5,7,9"
   ]
  },
  {
   "cell_type": "code",
   "execution_count": null,
   "id": "81af1001",
   "metadata": {},
   "outputs": [],
   "source": [
    "for num in range(1,11):\n",
    "    print(num)"
   ]
  },
  {
   "cell_type": "code",
   "execution_count": null,
   "id": "04f312df",
   "metadata": {},
   "outputs": [],
   "source": [
    "for _ in range(1,11):\n",
    "    print(_)"
   ]
  },
  {
   "cell_type": "code",
   "execution_count": null,
   "id": "5c963643",
   "metadata": {},
   "outputs": [],
   "source": [
    "for num in range(1,12,2):\n",
    "    print(num)"
   ]
  },
  {
   "cell_type": "code",
   "execution_count": null,
   "id": "c4271e02",
   "metadata": {},
   "outputs": [],
   "source": [
    "for num in range(1,12,2):\n",
    "    print(num**2)"
   ]
  },
  {
   "cell_type": "code",
   "execution_count": 5,
   "id": "57ecc2eb",
   "metadata": {},
   "outputs": [
    {
     "name": "stdout",
     "output_type": "stream",
     "text": [
      "Odd number\n",
      "Even number\n",
      "Odd number\n",
      "Even number\n"
     ]
    }
   ],
   "source": [
    "for num in range(1,11,3):\n",
    "    if num % 2== 0:\n",
    "        print('Even number')\n",
    "    else:\n",
    "        print('Odd number')"
   ]
  },
  {
   "cell_type": "markdown",
   "id": "6876d4a8",
   "metadata": {},
   "source": [
    "* ## While loop"
   ]
  },
  {
   "cell_type": "code",
   "execution_count": 2,
   "id": "e19871b4",
   "metadata": {},
   "outputs": [
    {
     "name": "stdout",
     "output_type": "stream",
     "text": [
      "Odd number\n",
      "Even number\n",
      "Odd number\n",
      "Even number\n",
      "Odd number\n",
      "Even number\n",
      "Odd number\n",
      "Even number\n",
      "Odd number\n",
      "Even number\n"
     ]
    }
   ],
   "source": [
    "num = 1\n",
    "while num <11:\n",
    "    if num %2 != 0:\n",
    "        print('Odd number')\n",
    "    else:\n",
    "        print('Even number')\n",
    "    num = num+1"
   ]
  },
  {
   "cell_type": "markdown",
   "id": "0955ddef",
   "metadata": {},
   "source": [
    "* # List Comprehension"
   ]
  },
  {
   "cell_type": "code",
   "execution_count": null,
   "id": "d9b6efbc",
   "metadata": {},
   "outputs": [],
   "source": [
    "for num in range(1,11,3):\n",
    "    if num % 2== 0:\n",
    "        print('Even number')\n",
    "    else:\n",
    "        print('Odd number')"
   ]
  },
  {
   "cell_type": "code",
   "execution_count": 7,
   "id": "1bca9fc2",
   "metadata": {},
   "outputs": [
    {
     "name": "stdout",
     "output_type": "stream",
     "text": [
      "Even Number\n",
      "Odd number\n",
      "Even Number\n",
      "Odd number\n",
      "Even Number\n",
      "Odd number\n",
      "Even Number\n",
      "Odd number\n",
      "Even Number\n",
      "Odd number\n",
      "Even Number\n"
     ]
    }
   ],
   "source": [
    "w_list=[print('Even Number') if num %2 == 0 else print('Odd number') for num in range(11)]"
   ]
  },
  {
   "cell_type": "code",
   "execution_count": 8,
   "id": "49012606",
   "metadata": {},
   "outputs": [
    {
     "data": {
      "text/plain": [
       "[None, None, None, None, None, None, None, None, None, None, None]"
      ]
     },
     "execution_count": 8,
     "metadata": {},
     "output_type": "execute_result"
    }
   ],
   "source": [
    "w_list"
   ]
  },
  {
   "cell_type": "code",
   "execution_count": null,
   "id": "3458cac9",
   "metadata": {},
   "outputs": [],
   "source": []
  },
  {
   "cell_type": "code",
   "execution_count": null,
   "id": "c2de0a39",
   "metadata": {},
   "outputs": [],
   "source": []
  }
 ],
 "metadata": {
  "kernelspec": {
   "display_name": "Python 3 (ipykernel)",
   "language": "python",
   "name": "python3"
  },
  "language_info": {
   "codemirror_mode": {
    "name": "ipython",
    "version": 3
   },
   "file_extension": ".py",
   "mimetype": "text/x-python",
   "name": "python",
   "nbconvert_exporter": "python",
   "pygments_lexer": "ipython3",
   "version": "3.9.12"
  }
 },
 "nbformat": 4,
 "nbformat_minor": 5
}
