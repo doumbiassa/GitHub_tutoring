{
 "cells": [
  {
   "cell_type": "code",
   "execution_count": 25,
   "id": "513e7732",
   "metadata": {},
   "outputs": [],
   "source": [
    "import pandas as pd\n",
    "import numpy as np\n",
    "import matplotlib.pyplot as plt\n",
    "%matplotlib inline"
   ]
  },
  {
   "cell_type": "code",
   "execution_count": 26,
   "id": "7f25a997",
   "metadata": {},
   "outputs": [],
   "source": [
    "from sklearn.preprocessing import LabelEncoder\n",
    "from sklearn.preprocessing import OrdinalEncoder\n",
    "from sklearn.preprocessing import OneHotEncoder"
   ]
  },
  {
   "cell_type": "code",
   "execution_count": 27,
   "id": "4a7c8299",
   "metadata": {},
   "outputs": [],
   "source": [
    "transfromer = LabelEncoder()"
   ]
  },
  {
   "cell_type": "code",
   "execution_count": 28,
   "id": "5184b2f1",
   "metadata": {},
   "outputs": [],
   "source": [
    "X = np.array(['Cat',\n",
    "              'Dog',\n",
    "              'Cat',\n",
    "              'Bird'])"
   ]
  },
  {
   "cell_type": "code",
   "execution_count": 29,
   "id": "97f29854",
   "metadata": {},
   "outputs": [
    {
     "data": {
      "text/plain": [
       "array([1, 2, 1, 0], dtype=int64)"
      ]
     },
     "execution_count": 29,
     "metadata": {},
     "output_type": "execute_result"
    }
   ],
   "source": [
    "transfromer.fit_transform(X)"
   ]
  },
  {
   "cell_type": "code",
   "execution_count": 30,
   "id": "ab18f665",
   "metadata": {},
   "outputs": [
    {
     "data": {
      "text/plain": [
       "array(['Cat', 'Cat', 'Bird', 'Dog'], dtype='<U4')"
      ]
     },
     "execution_count": 30,
     "metadata": {},
     "output_type": "execute_result"
    }
   ],
   "source": [
    "transfromer.inverse_transform([1,1,0,2])"
   ]
  },
  {
   "cell_type": "code",
   "execution_count": 31,
   "id": "83b4d498",
   "metadata": {},
   "outputs": [],
   "source": [
    "Z = np.array(['Cat',\n",
    "              'Dog',\n",
    "              'Dog',\n",
    "              'Bird',\n",
    "              'Bird'\n",
    "])"
   ]
  },
  {
   "cell_type": "code",
   "execution_count": 32,
   "id": "80d6289b",
   "metadata": {},
   "outputs": [],
   "source": [
    "Y = np.array(['Cat',\n",
    "              'Dog',\n",
    "              'Cat',\n",
    "              'Bird',\n",
    "             'Bird',\n",
    "             'Dog'])"
   ]
  },
  {
   "cell_type": "code",
   "execution_count": 33,
   "id": "4c964262",
   "metadata": {},
   "outputs": [],
   "source": [
    "label = LabelEncoder()"
   ]
  },
  {
   "cell_type": "code",
   "execution_count": 34,
   "id": "148d289c",
   "metadata": {},
   "outputs": [
    {
     "data": {
      "text/plain": [
       "array([1, 2, 1, 0, 0, 2], dtype=int64)"
      ]
     },
     "execution_count": 34,
     "metadata": {},
     "output_type": "execute_result"
    }
   ],
   "source": [
    "label.fit_transform(Y)"
   ]
  },
  {
   "cell_type": "code",
   "execution_count": 35,
   "id": "e3373c50",
   "metadata": {},
   "outputs": [],
   "source": [
    "W = np.array(['Cat',\n",
    "              'Cat'\n",
    "              'Dog',\n",
    "              'Cat',\n",
    "              'Bird'])"
   ]
  },
  {
   "cell_type": "code",
   "execution_count": 36,
   "id": "7717e37c",
   "metadata": {},
   "outputs": [],
   "source": [
    "from sklearn.preprocessing import LabelBinarizer"
   ]
  },
  {
   "cell_type": "code",
   "execution_count": 37,
   "id": "8c67b6fd",
   "metadata": {},
   "outputs": [],
   "source": [
    "binar = LabelBinarizer()"
   ]
  },
  {
   "cell_type": "code",
   "execution_count": 38,
   "id": "3e00e216",
   "metadata": {},
   "outputs": [
    {
     "data": {
      "text/plain": [
       "array([[0, 1, 0],\n",
       "       [0, 0, 1],\n",
       "       [0, 1, 0],\n",
       "       [1, 0, 0]])"
      ]
     },
     "execution_count": 38,
     "metadata": {},
     "output_type": "execute_result"
    }
   ],
   "source": [
    "binar.fit_transform(W)"
   ]
  },
  {
   "cell_type": "code",
   "execution_count": 39,
   "id": "40d811ce",
   "metadata": {},
   "outputs": [],
   "source": [
    "binar = LabelBinarizer(sparse_output=True)"
   ]
  },
  {
   "cell_type": "code",
   "execution_count": 40,
   "id": "d2cffd79",
   "metadata": {},
   "outputs": [
    {
     "data": {
      "text/plain": [
       "<4x3 sparse matrix of type '<class 'numpy.int32'>'\n",
       "\twith 4 stored elements in Compressed Sparse Row format>"
      ]
     },
     "execution_count": 40,
     "metadata": {},
     "output_type": "execute_result"
    }
   ],
   "source": [
    "binar.fit_transform(W)"
   ]
  },
  {
   "cell_type": "code",
   "execution_count": 41,
   "id": "21eaa6a0",
   "metadata": {},
   "outputs": [],
   "source": [
    "encod = OrdinalEncoder()"
   ]
  },
  {
   "cell_type": "code",
   "execution_count": 42,
   "id": "fba27612",
   "metadata": {},
   "outputs": [],
   "source": [
    "U = np.array(['Cat',\n",
    "              'Dog',\n",
    "              'Dog',\n",
    "              'Bird',\n",
    "              'Bird'])"
   ]
  },
  {
   "cell_type": "code",
   "execution_count": 43,
   "id": "64142f83",
   "metadata": {},
   "outputs": [
    {
     "ename": "ValueError",
     "evalue": "Expected 2D array, got 1D array instead:\narray=['Cat' 'Dog' 'Dog' 'Bird' 'Bird'].\nReshape your data either using array.reshape(-1, 1) if your data has a single feature or array.reshape(1, -1) if it contains a single sample.",
     "output_type": "error",
     "traceback": [
      "\u001b[1;31m---------------------------------------------------------------------------\u001b[0m",
      "\u001b[1;31mValueError\u001b[0m                                Traceback (most recent call last)",
      "Input \u001b[1;32mIn [43]\u001b[0m, in \u001b[0;36m<cell line: 1>\u001b[1;34m()\u001b[0m\n\u001b[1;32m----> 1\u001b[0m \u001b[43mencod\u001b[49m\u001b[38;5;241;43m.\u001b[39;49m\u001b[43mfit_transform\u001b[49m\u001b[43m(\u001b[49m\u001b[43mU\u001b[49m\u001b[43m)\u001b[49m\n",
      "File \u001b[1;32m~\\anaconda3\\lib\\site-packages\\sklearn\\base.py:867\u001b[0m, in \u001b[0;36mTransformerMixin.fit_transform\u001b[1;34m(self, X, y, **fit_params)\u001b[0m\n\u001b[0;32m    863\u001b[0m \u001b[38;5;66;03m# non-optimized default implementation; override when a better\u001b[39;00m\n\u001b[0;32m    864\u001b[0m \u001b[38;5;66;03m# method is possible for a given clustering algorithm\u001b[39;00m\n\u001b[0;32m    865\u001b[0m \u001b[38;5;28;01mif\u001b[39;00m y \u001b[38;5;129;01mis\u001b[39;00m \u001b[38;5;28;01mNone\u001b[39;00m:\n\u001b[0;32m    866\u001b[0m     \u001b[38;5;66;03m# fit method of arity 1 (unsupervised transformation)\u001b[39;00m\n\u001b[1;32m--> 867\u001b[0m     \u001b[38;5;28;01mreturn\u001b[39;00m \u001b[38;5;28mself\u001b[39m\u001b[38;5;241m.\u001b[39mfit(X, \u001b[38;5;241m*\u001b[39m\u001b[38;5;241m*\u001b[39mfit_params)\u001b[38;5;241m.\u001b[39mtransform(X)\n\u001b[0;32m    868\u001b[0m \u001b[38;5;28;01melse\u001b[39;00m:\n\u001b[0;32m    869\u001b[0m     \u001b[38;5;66;03m# fit method of arity 2 (supervised transformation)\u001b[39;00m\n\u001b[0;32m    870\u001b[0m     \u001b[38;5;28;01mreturn\u001b[39;00m \u001b[38;5;28mself\u001b[39m\u001b[38;5;241m.\u001b[39mfit(X, y, \u001b[38;5;241m*\u001b[39m\u001b[38;5;241m*\u001b[39mfit_params)\u001b[38;5;241m.\u001b[39mtransform(X)\n",
      "File \u001b[1;32m~\\anaconda3\\lib\\site-packages\\sklearn\\preprocessing\\_encoders.py:1294\u001b[0m, in \u001b[0;36mOrdinalEncoder.fit\u001b[1;34m(self, X, y)\u001b[0m\n\u001b[0;32m   1287\u001b[0m     \u001b[38;5;28;01mraise\u001b[39;00m \u001b[38;5;167;01mTypeError\u001b[39;00m(\n\u001b[0;32m   1288\u001b[0m         \u001b[38;5;124m\"\u001b[39m\u001b[38;5;124munknown_value should only be set when \u001b[39m\u001b[38;5;124m\"\u001b[39m\n\u001b[0;32m   1289\u001b[0m         \u001b[38;5;124m\"\u001b[39m\u001b[38;5;124mhandle_unknown is \u001b[39m\u001b[38;5;124m'\u001b[39m\u001b[38;5;124muse_encoded_value\u001b[39m\u001b[38;5;124m'\u001b[39m\u001b[38;5;124m, \u001b[39m\u001b[38;5;124m\"\u001b[39m\n\u001b[0;32m   1290\u001b[0m         \u001b[38;5;124mf\u001b[39m\u001b[38;5;124m\"\u001b[39m\u001b[38;5;124mgot \u001b[39m\u001b[38;5;132;01m{\u001b[39;00m\u001b[38;5;28mself\u001b[39m\u001b[38;5;241m.\u001b[39munknown_value\u001b[38;5;132;01m}\u001b[39;00m\u001b[38;5;124m.\u001b[39m\u001b[38;5;124m\"\u001b[39m\n\u001b[0;32m   1291\u001b[0m     )\n\u001b[0;32m   1293\u001b[0m \u001b[38;5;66;03m# `_fit` will only raise an error when `self.handle_unknown=\"error\"`\u001b[39;00m\n\u001b[1;32m-> 1294\u001b[0m \u001b[38;5;28;43mself\u001b[39;49m\u001b[38;5;241;43m.\u001b[39;49m\u001b[43m_fit\u001b[49m\u001b[43m(\u001b[49m\u001b[43mX\u001b[49m\u001b[43m,\u001b[49m\u001b[43m \u001b[49m\u001b[43mhandle_unknown\u001b[49m\u001b[38;5;241;43m=\u001b[39;49m\u001b[38;5;28;43mself\u001b[39;49m\u001b[38;5;241;43m.\u001b[39;49m\u001b[43mhandle_unknown\u001b[49m\u001b[43m,\u001b[49m\u001b[43m \u001b[49m\u001b[43mforce_all_finite\u001b[49m\u001b[38;5;241;43m=\u001b[39;49m\u001b[38;5;124;43m\"\u001b[39;49m\u001b[38;5;124;43mallow-nan\u001b[39;49m\u001b[38;5;124;43m\"\u001b[39;49m\u001b[43m)\u001b[49m\n\u001b[0;32m   1296\u001b[0m \u001b[38;5;28;01mif\u001b[39;00m \u001b[38;5;28mself\u001b[39m\u001b[38;5;241m.\u001b[39mhandle_unknown \u001b[38;5;241m==\u001b[39m \u001b[38;5;124m\"\u001b[39m\u001b[38;5;124muse_encoded_value\u001b[39m\u001b[38;5;124m\"\u001b[39m:\n\u001b[0;32m   1297\u001b[0m     \u001b[38;5;28;01mfor\u001b[39;00m feature_cats \u001b[38;5;129;01min\u001b[39;00m \u001b[38;5;28mself\u001b[39m\u001b[38;5;241m.\u001b[39mcategories_:\n",
      "File \u001b[1;32m~\\anaconda3\\lib\\site-packages\\sklearn\\preprocessing\\_encoders.py:80\u001b[0m, in \u001b[0;36m_BaseEncoder._fit\u001b[1;34m(self, X, handle_unknown, force_all_finite, return_counts)\u001b[0m\n\u001b[0;32m     78\u001b[0m \u001b[38;5;28mself\u001b[39m\u001b[38;5;241m.\u001b[39m_check_n_features(X, reset\u001b[38;5;241m=\u001b[39m\u001b[38;5;28;01mTrue\u001b[39;00m)\n\u001b[0;32m     79\u001b[0m \u001b[38;5;28mself\u001b[39m\u001b[38;5;241m.\u001b[39m_check_feature_names(X, reset\u001b[38;5;241m=\u001b[39m\u001b[38;5;28;01mTrue\u001b[39;00m)\n\u001b[1;32m---> 80\u001b[0m X_list, n_samples, n_features \u001b[38;5;241m=\u001b[39m \u001b[38;5;28;43mself\u001b[39;49m\u001b[38;5;241;43m.\u001b[39;49m\u001b[43m_check_X\u001b[49m\u001b[43m(\u001b[49m\n\u001b[0;32m     81\u001b[0m \u001b[43m    \u001b[49m\u001b[43mX\u001b[49m\u001b[43m,\u001b[49m\u001b[43m \u001b[49m\u001b[43mforce_all_finite\u001b[49m\u001b[38;5;241;43m=\u001b[39;49m\u001b[43mforce_all_finite\u001b[49m\n\u001b[0;32m     82\u001b[0m \u001b[43m\u001b[49m\u001b[43m)\u001b[49m\n\u001b[0;32m     83\u001b[0m \u001b[38;5;28mself\u001b[39m\u001b[38;5;241m.\u001b[39mn_features_in_ \u001b[38;5;241m=\u001b[39m n_features\n\u001b[0;32m     85\u001b[0m \u001b[38;5;28;01mif\u001b[39;00m \u001b[38;5;28mself\u001b[39m\u001b[38;5;241m.\u001b[39mcategories \u001b[38;5;241m!=\u001b[39m \u001b[38;5;124m\"\u001b[39m\u001b[38;5;124mauto\u001b[39m\u001b[38;5;124m\"\u001b[39m:\n",
      "File \u001b[1;32m~\\anaconda3\\lib\\site-packages\\sklearn\\preprocessing\\_encoders.py:45\u001b[0m, in \u001b[0;36m_BaseEncoder._check_X\u001b[1;34m(self, X, force_all_finite)\u001b[0m\n\u001b[0;32m     32\u001b[0m \u001b[38;5;124;03m\"\"\"\u001b[39;00m\n\u001b[0;32m     33\u001b[0m \u001b[38;5;124;03mPerform custom check_array:\u001b[39;00m\n\u001b[0;32m     34\u001b[0m \u001b[38;5;124;03m- convert list of strings to object dtype\u001b[39;00m\n\u001b[1;32m   (...)\u001b[0m\n\u001b[0;32m     41\u001b[0m \n\u001b[0;32m     42\u001b[0m \u001b[38;5;124;03m\"\"\"\u001b[39;00m\n\u001b[0;32m     43\u001b[0m \u001b[38;5;28;01mif\u001b[39;00m \u001b[38;5;129;01mnot\u001b[39;00m (\u001b[38;5;28mhasattr\u001b[39m(X, \u001b[38;5;124m\"\u001b[39m\u001b[38;5;124miloc\u001b[39m\u001b[38;5;124m\"\u001b[39m) \u001b[38;5;129;01mand\u001b[39;00m \u001b[38;5;28mgetattr\u001b[39m(X, \u001b[38;5;124m\"\u001b[39m\u001b[38;5;124mndim\u001b[39m\u001b[38;5;124m\"\u001b[39m, \u001b[38;5;241m0\u001b[39m) \u001b[38;5;241m==\u001b[39m \u001b[38;5;241m2\u001b[39m):\n\u001b[0;32m     44\u001b[0m     \u001b[38;5;66;03m# if not a dataframe, do normal check_array validation\u001b[39;00m\n\u001b[1;32m---> 45\u001b[0m     X_temp \u001b[38;5;241m=\u001b[39m \u001b[43mcheck_array\u001b[49m\u001b[43m(\u001b[49m\u001b[43mX\u001b[49m\u001b[43m,\u001b[49m\u001b[43m \u001b[49m\u001b[43mdtype\u001b[49m\u001b[38;5;241;43m=\u001b[39;49m\u001b[38;5;28;43;01mNone\u001b[39;49;00m\u001b[43m,\u001b[49m\u001b[43m \u001b[49m\u001b[43mforce_all_finite\u001b[49m\u001b[38;5;241;43m=\u001b[39;49m\u001b[43mforce_all_finite\u001b[49m\u001b[43m)\u001b[49m\n\u001b[0;32m     46\u001b[0m     \u001b[38;5;28;01mif\u001b[39;00m \u001b[38;5;129;01mnot\u001b[39;00m \u001b[38;5;28mhasattr\u001b[39m(X, \u001b[38;5;124m\"\u001b[39m\u001b[38;5;124mdtype\u001b[39m\u001b[38;5;124m\"\u001b[39m) \u001b[38;5;129;01mand\u001b[39;00m np\u001b[38;5;241m.\u001b[39missubdtype(X_temp\u001b[38;5;241m.\u001b[39mdtype, np\u001b[38;5;241m.\u001b[39mstr_):\n\u001b[0;32m     47\u001b[0m         X \u001b[38;5;241m=\u001b[39m check_array(X, dtype\u001b[38;5;241m=\u001b[39m\u001b[38;5;28mobject\u001b[39m, force_all_finite\u001b[38;5;241m=\u001b[39mforce_all_finite)\n",
      "File \u001b[1;32m~\\anaconda3\\lib\\site-packages\\sklearn\\utils\\validation.py:879\u001b[0m, in \u001b[0;36mcheck_array\u001b[1;34m(array, accept_sparse, accept_large_sparse, dtype, order, copy, force_all_finite, ensure_2d, allow_nd, ensure_min_samples, ensure_min_features, estimator, input_name)\u001b[0m\n\u001b[0;32m    877\u001b[0m     \u001b[38;5;66;03m# If input is 1D raise error\u001b[39;00m\n\u001b[0;32m    878\u001b[0m     \u001b[38;5;28;01mif\u001b[39;00m array\u001b[38;5;241m.\u001b[39mndim \u001b[38;5;241m==\u001b[39m \u001b[38;5;241m1\u001b[39m:\n\u001b[1;32m--> 879\u001b[0m         \u001b[38;5;28;01mraise\u001b[39;00m \u001b[38;5;167;01mValueError\u001b[39;00m(\n\u001b[0;32m    880\u001b[0m             \u001b[38;5;124m\"\u001b[39m\u001b[38;5;124mExpected 2D array, got 1D array instead:\u001b[39m\u001b[38;5;130;01m\\n\u001b[39;00m\u001b[38;5;124marray=\u001b[39m\u001b[38;5;132;01m{}\u001b[39;00m\u001b[38;5;124m.\u001b[39m\u001b[38;5;130;01m\\n\u001b[39;00m\u001b[38;5;124m\"\u001b[39m\n\u001b[0;32m    881\u001b[0m             \u001b[38;5;124m\"\u001b[39m\u001b[38;5;124mReshape your data either using array.reshape(-1, 1) if \u001b[39m\u001b[38;5;124m\"\u001b[39m\n\u001b[0;32m    882\u001b[0m             \u001b[38;5;124m\"\u001b[39m\u001b[38;5;124myour data has a single feature or array.reshape(1, -1) \u001b[39m\u001b[38;5;124m\"\u001b[39m\n\u001b[0;32m    883\u001b[0m             \u001b[38;5;124m\"\u001b[39m\u001b[38;5;124mif it contains a single sample.\u001b[39m\u001b[38;5;124m\"\u001b[39m\u001b[38;5;241m.\u001b[39mformat(array)\n\u001b[0;32m    884\u001b[0m         )\n\u001b[0;32m    886\u001b[0m \u001b[38;5;28;01mif\u001b[39;00m dtype_numeric \u001b[38;5;129;01mand\u001b[39;00m array\u001b[38;5;241m.\u001b[39mdtype\u001b[38;5;241m.\u001b[39mkind \u001b[38;5;129;01min\u001b[39;00m \u001b[38;5;124m\"\u001b[39m\u001b[38;5;124mUSV\u001b[39m\u001b[38;5;124m\"\u001b[39m:\n\u001b[0;32m    887\u001b[0m     \u001b[38;5;28;01mraise\u001b[39;00m \u001b[38;5;167;01mValueError\u001b[39;00m(\n\u001b[0;32m    888\u001b[0m         \u001b[38;5;124m\"\u001b[39m\u001b[38;5;124mdtype=\u001b[39m\u001b[38;5;124m'\u001b[39m\u001b[38;5;124mnumeric\u001b[39m\u001b[38;5;124m'\u001b[39m\u001b[38;5;124m is not compatible with arrays of bytes/strings.\u001b[39m\u001b[38;5;124m\"\u001b[39m\n\u001b[0;32m    889\u001b[0m         \u001b[38;5;124m\"\u001b[39m\u001b[38;5;124mConvert your data to numeric values explicitly instead.\u001b[39m\u001b[38;5;124m\"\u001b[39m\n\u001b[0;32m    890\u001b[0m     )\n",
      "\u001b[1;31mValueError\u001b[0m: Expected 2D array, got 1D array instead:\narray=['Cat' 'Dog' 'Dog' 'Bird' 'Bird'].\nReshape your data either using array.reshape(-1, 1) if your data has a single feature or array.reshape(1, -1) if it contains a single sample."
     ]
    }
   ],
   "source": [
    "encod.fit_transform(U)"
   ]
  },
  {
   "cell_type": "code",
   "execution_count": 44,
   "id": "53b84b16",
   "metadata": {},
   "outputs": [],
   "source": [
    "from sklearn.datasets import load_iris"
   ]
  },
  {
   "cell_type": "code",
   "execution_count": 45,
   "id": "0603541f",
   "metadata": {},
   "outputs": [],
   "source": [
    "iris_df = load_iris()"
   ]
  },
  {
   "cell_type": "code",
   "execution_count": 46,
   "id": "5bbc01fe",
   "metadata": {},
   "outputs": [
    {
     "data": {
      "text/plain": [
       "dict_keys(['data', 'target', 'frame', 'target_names', 'DESCR', 'feature_names', 'filename', 'data_module'])"
      ]
     },
     "execution_count": 46,
     "metadata": {},
     "output_type": "execute_result"
    }
   ],
   "source": [
    "iris_df.keys()\n"
   ]
  },
  {
   "cell_type": "code",
   "execution_count": 47,
   "id": "c2430041",
   "metadata": {},
   "outputs": [],
   "source": [
    "from sklearn.preprocessing import StandardScaler,MinMaxScaler"
   ]
  },
  {
   "cell_type": "code",
   "execution_count": 48,
   "id": "8942be76",
   "metadata": {},
   "outputs": [],
   "source": [
    "X = np.array([[70],[80],[120]])"
   ]
  },
  {
   "cell_type": "code",
   "execution_count": 49,
   "id": "ac9742b6",
   "metadata": {},
   "outputs": [],
   "source": [
    "scaler = MinMaxScaler()"
   ]
  },
  {
   "cell_type": "code",
   "execution_count": 50,
   "id": "b6cd0c10",
   "metadata": {},
   "outputs": [
    {
     "data": {
      "text/plain": [
       "array([[0. ],\n",
       "       [0.2],\n",
       "       [1. ]])"
      ]
     },
     "execution_count": 50,
     "metadata": {},
     "output_type": "execute_result"
    }
   ],
   "source": [
    "scaler.fit_transform(X)"
   ]
  },
  {
   "cell_type": "code",
   "execution_count": 51,
   "id": "a7c46bd5",
   "metadata": {},
   "outputs": [],
   "source": [
    "scale = StandardScaler()"
   ]
  },
  {
   "cell_type": "code",
   "execution_count": 52,
   "id": "dab94af7",
   "metadata": {},
   "outputs": [
    {
     "data": {
      "text/plain": [
       "array([[-0.9258201 ],\n",
       "       [-0.46291005],\n",
       "       [ 1.38873015]])"
      ]
     },
     "execution_count": 52,
     "metadata": {},
     "output_type": "execute_result"
    }
   ],
   "source": [
    "scale.fit_transform(X)"
   ]
  },
  {
   "cell_type": "code",
   "execution_count": 53,
   "id": "c0017445",
   "metadata": {},
   "outputs": [],
   "source": [
    "outliers = np.full((10,4), 100)+np.random.randn(10,4)"
   ]
  },
  {
   "cell_type": "code",
   "execution_count": 54,
   "id": "6e3998d8",
   "metadata": {},
   "outputs": [],
   "source": [
    "X = iris_df.data"
   ]
  },
  {
   "cell_type": "code",
   "execution_count": 55,
   "id": "af0ad461",
   "metadata": {},
   "outputs": [],
   "source": [
    "X = np.vstack((X, outliers))"
   ]
  },
  {
   "cell_type": "code",
   "execution_count": 56,
   "id": "f5a65336",
   "metadata": {},
   "outputs": [],
   "source": [
    "X_minmax =MinMaxScaler().fit_transform(X)\n",
    "X_standar = StandardScaler().fit_transform(X)"
   ]
  },
  {
   "cell_type": "code",
   "execution_count": 57,
   "id": "e42f3455",
   "metadata": {},
   "outputs": [],
   "source": [
    "# plt.scatter(X[:,2],X[:,3], alpha=0.5, label='Original')\n",
    "# plt.scatter(X_minmax[:,2],X_minmax[:,3],label='MinMax')\n",
    "# plt.scatter(X_standar[:,2],X_standar[:,3],label=\"Standar\")\n",
    "# plt.legend()"
   ]
  },
  {
   "cell_type": "markdown",
   "id": "a7a4c9da",
   "metadata": {},
   "source": [
    "$X_{scaled}=\\frac{X -mediane}{IQR}$"
   ]
  },
  {
   "cell_type": "code",
   "execution_count": 69,
   "id": "4a32016d",
   "metadata": {},
   "outputs": [
    {
     "data": {
      "text/plain": [
       "array([[-8.91795482e+00,  2.97265161e+00, -2.43710692e+01,\n",
       "        -1.20000000e+00],\n",
       "       [-1.12960761e+01,  0.00000000e+00, -2.43710692e+01,\n",
       "        -1.20000000e+00],\n",
       "       [-1.36741974e+01,  1.18906064e+00, -2.51572327e+01,\n",
       "        -1.20000000e+00],\n",
       "       [-1.48632580e+01,  5.94530321e-01, -2.35849057e+01,\n",
       "        -1.20000000e+00],\n",
       "       [-1.01070155e+01,  3.56718193e+00, -2.43710692e+01,\n",
       "        -1.20000000e+00],\n",
       "       [-5.35077289e+00,  5.35077289e+00, -2.20125786e+01,\n",
       "        -1.00000000e+00],\n",
       "       [-1.48632580e+01,  2.37812128e+00, -2.43710692e+01,\n",
       "        -1.10000000e+00],\n",
       "       [-1.01070155e+01,  2.37812128e+00, -2.35849057e+01,\n",
       "        -1.20000000e+00],\n",
       "       [-1.72413793e+01, -5.94530321e-01, -2.43710692e+01,\n",
       "        -1.20000000e+00],\n",
       "       [-1.12960761e+01,  5.94530321e-01, -2.35849057e+01,\n",
       "        -1.30000000e+00],\n",
       "       [-5.35077289e+00,  4.16171225e+00, -2.35849057e+01,\n",
       "        -1.20000000e+00],\n",
       "       [-1.24851367e+01,  2.37812128e+00, -2.27987421e+01,\n",
       "        -1.20000000e+00],\n",
       "       [-1.24851367e+01,  0.00000000e+00, -2.43710692e+01,\n",
       "        -1.30000000e+00],\n",
       "       [-1.84304400e+01,  0.00000000e+00, -2.67295597e+01,\n",
       "        -1.30000000e+00],\n",
       "       [-5.94530321e-01,  5.94530321e+00, -2.59433962e+01,\n",
       "        -1.20000000e+00],\n",
       "       [-1.78359096e+00,  8.32342449e+00, -2.35849057e+01,\n",
       "        -1.00000000e+00],\n",
       "       [-5.35077289e+00,  5.35077289e+00, -2.51572327e+01,\n",
       "        -1.00000000e+00],\n",
       "       [-8.91795482e+00,  2.97265161e+00, -2.43710692e+01,\n",
       "        -1.10000000e+00],\n",
       "       [-1.78359096e+00,  4.75624257e+00, -2.20125786e+01,\n",
       "        -1.10000000e+00],\n",
       "       [-8.91795482e+00,  4.75624257e+00, -2.35849057e+01,\n",
       "        -1.10000000e+00],\n",
       "       [-5.35077289e+00,  2.37812128e+00, -2.20125786e+01,\n",
       "        -1.20000000e+00],\n",
       "       [-8.91795482e+00,  4.16171225e+00, -2.35849057e+01,\n",
       "        -1.00000000e+00],\n",
       "       [-1.48632580e+01,  3.56718193e+00, -2.75157233e+01,\n",
       "        -1.20000000e+00],\n",
       "       [-8.91795482e+00,  1.78359096e+00, -2.20125786e+01,\n",
       "        -9.00000000e-01],\n",
       "       [-1.24851367e+01,  2.37812128e+00, -2.04402516e+01,\n",
       "        -1.20000000e+00],\n",
       "       [-1.01070155e+01,  0.00000000e+00, -2.27987421e+01,\n",
       "        -1.20000000e+00],\n",
       "       [-1.01070155e+01,  2.37812128e+00, -2.27987421e+01,\n",
       "        -1.00000000e+00],\n",
       "       [-7.72889417e+00,  2.97265161e+00, -2.35849057e+01,\n",
       "        -1.20000000e+00],\n",
       "       [-7.72889417e+00,  2.37812128e+00, -2.43710692e+01,\n",
       "        -1.20000000e+00],\n",
       "       [-1.36741974e+01,  1.18906064e+00, -2.27987421e+01,\n",
       "        -1.20000000e+00],\n",
       "       [-1.24851367e+01,  5.94530321e-01, -2.27987421e+01,\n",
       "        -1.20000000e+00],\n",
       "       [-5.35077289e+00,  2.37812128e+00, -2.35849057e+01,\n",
       "        -1.00000000e+00],\n",
       "       [-7.72889417e+00,  6.53983353e+00, -2.35849057e+01,\n",
       "        -1.30000000e+00],\n",
       "       [-4.16171225e+00,  7.13436385e+00, -2.43710692e+01,\n",
       "        -1.20000000e+00],\n",
       "       [-1.12960761e+01,  5.94530321e-01, -2.35849057e+01,\n",
       "        -1.20000000e+00],\n",
       "       [-1.01070155e+01,  1.18906064e+00, -2.59433962e+01,\n",
       "        -1.20000000e+00],\n",
       "       [-4.16171225e+00,  2.97265161e+00, -2.51572327e+01,\n",
       "        -1.20000000e+00],\n",
       "       [-1.12960761e+01,  3.56718193e+00, -2.43710692e+01,\n",
       "        -1.30000000e+00],\n",
       "       [-1.72413793e+01,  0.00000000e+00, -2.51572327e+01,\n",
       "        -1.20000000e+00],\n",
       "       [-8.91795482e+00,  2.37812128e+00, -2.35849057e+01,\n",
       "        -1.20000000e+00],\n",
       "       [-1.01070155e+01,  2.97265161e+00, -2.51572327e+01,\n",
       "        -1.10000000e+00],\n",
       "       [-1.60523187e+01, -4.16171225e+00, -2.51572327e+01,\n",
       "        -1.10000000e+00],\n",
       "       [-1.72413793e+01,  1.18906064e+00, -2.51572327e+01,\n",
       "        -1.20000000e+00],\n",
       "       [-1.01070155e+01,  2.97265161e+00, -2.27987421e+01,\n",
       "        -8.00000000e-01],\n",
       "       [-8.91795482e+00,  4.75624257e+00, -2.04402516e+01,\n",
       "        -1.00000000e+00],\n",
       "       [-1.24851367e+01,  0.00000000e+00, -2.43710692e+01,\n",
       "        -1.10000000e+00],\n",
       "       [-8.91795482e+00,  4.75624257e+00, -2.27987421e+01,\n",
       "        -1.20000000e+00],\n",
       "       [-1.48632580e+01,  1.18906064e+00, -2.43710692e+01,\n",
       "        -1.20000000e+00],\n",
       "       [-6.53983353e+00,  4.16171225e+00, -2.35849057e+01,\n",
       "        -1.20000000e+00],\n",
       "       [-1.01070155e+01,  1.78359096e+00, -2.43710692e+01,\n",
       "        -1.20000000e+00],\n",
       "       [ 1.36741974e+01,  1.18906064e+00,  1.57232704e+00,\n",
       "         0.00000000e+00],\n",
       "       [ 6.53983353e+00,  1.18906064e+00,  0.00000000e+00,\n",
       "         1.00000000e-01],\n",
       "       [ 1.24851367e+01,  5.94530321e-01,  3.14465409e+00,\n",
       "         1.00000000e-01],\n",
       "       [-4.16171225e+00, -4.16171225e+00, -3.93081761e+00,\n",
       "        -1.00000000e-01],\n",
       "       [ 7.72889417e+00, -1.18906064e+00,  7.86163522e-01,\n",
       "         1.00000000e-01],\n",
       "       [-1.78359096e+00, -1.18906064e+00,  0.00000000e+00,\n",
       "        -1.00000000e-01],\n",
       "       [ 5.35077289e+00,  1.78359096e+00,  1.57232704e+00,\n",
       "         2.00000000e-01],\n",
       "       [-1.12960761e+01, -3.56718193e+00, -9.43396226e+00,\n",
       "        -4.00000000e-01],\n",
       "       [ 8.91795482e+00, -5.94530321e-01,  7.86163522e-01,\n",
       "        -1.00000000e-01],\n",
       "       [-7.72889417e+00, -1.78359096e+00, -4.71698113e+00,\n",
       "         0.00000000e+00],\n",
       "       [-1.01070155e+01, -5.94530321e+00, -7.86163522e+00,\n",
       "        -4.00000000e-01],\n",
       "       [ 5.94530321e-01,  0.00000000e+00, -2.35849057e+00,\n",
       "         1.00000000e-01],\n",
       "       [ 1.78359096e+00, -4.75624257e+00, -3.93081761e+00,\n",
       "        -4.00000000e-01],\n",
       "       [ 2.97265161e+00, -5.94530321e-01,  1.57232704e+00,\n",
       "         0.00000000e+00],\n",
       "       [-2.97265161e+00, -5.94530321e-01, -7.07547170e+00,\n",
       "        -1.00000000e-01],\n",
       "       [ 1.01070155e+01,  5.94530321e-01, -7.86163522e-01,\n",
       "         0.00000000e+00],\n",
       "       [-2.97265161e+00,  0.00000000e+00,  0.00000000e+00,\n",
       "         1.00000000e-01],\n",
       "       [-5.94530321e-01, -1.78359096e+00, -3.14465409e+00,\n",
       "        -4.00000000e-01],\n",
       "       [ 4.16171225e+00, -4.75624257e+00,  0.00000000e+00,\n",
       "         1.00000000e-01],\n",
       "       [-2.97265161e+00, -2.97265161e+00, -4.71698113e+00,\n",
       "        -3.00000000e-01],\n",
       "       [ 5.94530321e-01,  1.18906064e+00,  2.35849057e+00,\n",
       "         4.00000000e-01],\n",
       "       [ 2.97265161e+00, -1.18906064e+00, -3.93081761e+00,\n",
       "        -1.00000000e-01],\n",
       "       [ 5.35077289e+00, -2.97265161e+00,  3.14465409e+00,\n",
       "         1.00000000e-01],\n",
       "       [ 2.97265161e+00, -1.18906064e+00,  1.57232704e+00,\n",
       "        -2.00000000e-01],\n",
       "       [ 6.53983353e+00, -5.94530321e-01, -1.57232704e+00,\n",
       "        -1.00000000e-01],\n",
       "       [ 8.91795482e+00,  0.00000000e+00, -7.86163522e-01,\n",
       "         0.00000000e+00],\n",
       "       [ 1.12960761e+01, -1.18906064e+00,  2.35849057e+00,\n",
       "         0.00000000e+00],\n",
       "       [ 1.01070155e+01,  0.00000000e+00,  3.93081761e+00,\n",
       "         3.00000000e-01],\n",
       "       [ 1.78359096e+00, -5.94530321e-01,  0.00000000e+00,\n",
       "         1.00000000e-01],\n",
       "       [-1.78359096e+00, -2.37812128e+00, -7.86163522e+00,\n",
       "        -4.00000000e-01],\n",
       "       [-4.16171225e+00, -3.56718193e+00, -5.50314465e+00,\n",
       "        -3.00000000e-01],\n",
       "       [-4.16171225e+00, -3.56718193e+00, -6.28930818e+00,\n",
       "        -4.00000000e-01],\n",
       "       [-5.94530321e-01, -1.78359096e+00, -4.71698113e+00,\n",
       "        -2.00000000e-01],\n",
       "       [ 1.78359096e+00, -1.78359096e+00,  4.71698113e+00,\n",
       "         2.00000000e-01],\n",
       "       [-5.35077289e+00,  0.00000000e+00,  0.00000000e+00,\n",
       "         1.00000000e-01],\n",
       "       [ 1.78359096e+00,  2.37812128e+00,  0.00000000e+00,\n",
       "         2.00000000e-01],\n",
       "       [ 1.01070155e+01,  5.94530321e-01,  1.57232704e+00,\n",
       "         1.00000000e-01],\n",
       "       [ 5.35077289e+00, -4.16171225e+00, -7.86163522e-01,\n",
       "        -1.00000000e-01],\n",
       "       [-2.97265161e+00,  0.00000000e+00, -3.14465409e+00,\n",
       "        -1.00000000e-01],\n",
       "       [-4.16171225e+00, -2.97265161e+00, -3.93081761e+00,\n",
       "        -1.00000000e-01],\n",
       "       [-4.16171225e+00, -2.37812128e+00, -7.86163522e-01,\n",
       "        -2.00000000e-01],\n",
       "       [ 2.97265161e+00,  0.00000000e+00,  7.86163522e-01,\n",
       "         0.00000000e+00],\n",
       "       [-5.94530321e-01, -2.37812128e+00, -3.93081761e+00,\n",
       "        -2.00000000e-01],\n",
       "       [-1.01070155e+01, -4.16171225e+00, -9.43396226e+00,\n",
       "        -4.00000000e-01],\n",
       "       [-2.97265161e+00, -1.78359096e+00, -2.35849057e+00,\n",
       "        -1.00000000e-01],\n",
       "       [-1.78359096e+00,  0.00000000e+00, -2.35849057e+00,\n",
       "        -2.00000000e-01],\n",
       "       [-1.78359096e+00, -5.94530321e-01, -2.35849057e+00,\n",
       "        -1.00000000e-01],\n",
       "       [ 4.16171225e+00, -5.94530321e-01, -1.57232704e+00,\n",
       "        -1.00000000e-01],\n",
       "       [-8.91795482e+00, -2.97265161e+00, -1.17924528e+01,\n",
       "        -3.00000000e-01],\n",
       "       [-1.78359096e+00, -1.18906064e+00, -3.14465409e+00,\n",
       "        -1.00000000e-01],\n",
       "       [ 5.35077289e+00,  1.78359096e+00,  1.17924528e+01,\n",
       "         1.10000000e+00],\n",
       "       [-5.94530321e-01, -1.78359096e+00,  4.71698113e+00,\n",
       "         5.00000000e-01],\n",
       "       [ 1.48632580e+01,  0.00000000e+00,  1.10062893e+01,\n",
       "         7.00000000e-01],\n",
       "       [ 5.35077289e+00, -5.94530321e-01,  8.64779874e+00,\n",
       "         4.00000000e-01],\n",
       "       [ 7.72889417e+00,  0.00000000e+00,  1.02201258e+01,\n",
       "         8.00000000e-01],\n",
       "       [ 2.08085612e+01,  0.00000000e+00,  1.65094340e+01,\n",
       "         7.00000000e-01],\n",
       "       [-1.12960761e+01, -2.97265161e+00,  0.00000000e+00,\n",
       "         3.00000000e-01],\n",
       "       [ 1.72413793e+01, -5.94530321e-01,  1.41509434e+01,\n",
       "         4.00000000e-01],\n",
       "       [ 1.01070155e+01, -2.97265161e+00,  1.02201258e+01,\n",
       "         4.00000000e-01],\n",
       "       [ 1.60523187e+01,  3.56718193e+00,  1.25786164e+01,\n",
       "         1.10000000e+00],\n",
       "       [ 7.72889417e+00,  1.18906064e+00,  4.71698113e+00,\n",
       "         6.00000000e-01],\n",
       "       [ 6.53983353e+00, -1.78359096e+00,  6.28930818e+00,\n",
       "         5.00000000e-01],\n",
       "       [ 1.12960761e+01,  0.00000000e+00,  7.86163522e+00,\n",
       "         7.00000000e-01],\n",
       "       [-1.78359096e+00, -2.97265161e+00,  3.93081761e+00,\n",
       "         6.00000000e-01],\n",
       "       [-5.94530321e-01, -1.18906064e+00,  4.71698113e+00,\n",
       "         1.00000000e+00],\n",
       "       [ 6.53983353e+00,  1.18906064e+00,  6.28930818e+00,\n",
       "         9.00000000e-01],\n",
       "       [ 7.72889417e+00,  0.00000000e+00,  7.86163522e+00,\n",
       "         4.00000000e-01],\n",
       "       [ 2.19976219e+01,  4.75624257e+00,  1.72955975e+01,\n",
       "         8.00000000e-01],\n",
       "       [ 2.19976219e+01, -2.37812128e+00,  1.88679245e+01,\n",
       "         9.00000000e-01],\n",
       "       [ 1.78359096e+00, -4.75624257e+00,  3.93081761e+00,\n",
       "         1.00000000e-01],\n",
       "       [ 1.24851367e+01,  1.18906064e+00,  9.43396226e+00,\n",
       "         9.00000000e-01],\n",
       "       [-2.97265161e+00, -1.18906064e+00,  3.14465409e+00,\n",
       "         6.00000000e-01],\n",
       "       [ 2.19976219e+01, -1.18906064e+00,  1.72955975e+01,\n",
       "         6.00000000e-01],\n",
       "       [ 5.35077289e+00, -1.78359096e+00,  3.14465409e+00,\n",
       "         4.00000000e-01],\n",
       "       [ 1.01070155e+01,  1.78359096e+00,  9.43396226e+00,\n",
       "         7.00000000e-01],\n",
       "       [ 1.60523187e+01,  1.18906064e+00,  1.17924528e+01,\n",
       "         4.00000000e-01],\n",
       "       [ 4.16171225e+00, -1.18906064e+00,  2.35849057e+00,\n",
       "         4.00000000e-01],\n",
       "       [ 2.97265161e+00,  0.00000000e+00,  3.14465409e+00,\n",
       "         4.00000000e-01],\n",
       "       [ 6.53983353e+00, -1.18906064e+00,  8.64779874e+00,\n",
       "         7.00000000e-01],\n",
       "       [ 1.60523187e+01,  0.00000000e+00,  1.02201258e+01,\n",
       "         2.00000000e-01],\n",
       "       [ 1.84304400e+01, -1.18906064e+00,  1.25786164e+01,\n",
       "         5.00000000e-01],\n",
       "       [ 2.43757432e+01,  4.75624257e+00,  1.49371069e+01,\n",
       "         6.00000000e-01],\n",
       "       [ 6.53983353e+00, -1.18906064e+00,  8.64779874e+00,\n",
       "         8.00000000e-01],\n",
       "       [ 5.35077289e+00, -1.18906064e+00,  4.71698113e+00,\n",
       "         1.00000000e-01],\n",
       "       [ 2.97265161e+00, -2.37812128e+00,  8.64779874e+00,\n",
       "         0.00000000e+00],\n",
       "       [ 2.19976219e+01,  0.00000000e+00,  1.25786164e+01,\n",
       "         9.00000000e-01],\n",
       "       [ 5.35077289e+00,  2.37812128e+00,  8.64779874e+00,\n",
       "         1.00000000e+00],\n",
       "       [ 6.53983353e+00,  5.94530321e-01,  7.86163522e+00,\n",
       "         4.00000000e-01],\n",
       "       [ 1.78359096e+00,  0.00000000e+00,  2.35849057e+00,\n",
       "         4.00000000e-01],\n",
       "       [ 1.24851367e+01,  5.94530321e-01,  7.07547170e+00,\n",
       "         7.00000000e-01],\n",
       "       [ 1.01070155e+01,  5.94530321e-01,  8.64779874e+00,\n",
       "         1.00000000e+00],\n",
       "       [ 1.24851367e+01,  5.94530321e-01,  4.71698113e+00,\n",
       "         9.00000000e-01],\n",
       "       [-5.94530321e-01, -1.78359096e+00,  4.71698113e+00,\n",
       "         5.00000000e-01],\n",
       "       [ 1.12960761e+01,  1.18906064e+00,  1.10062893e+01,\n",
       "         9.00000000e-01],\n",
       "       [ 1.01070155e+01,  1.78359096e+00,  9.43396226e+00,\n",
       "         1.10000000e+00],\n",
       "       [ 1.01070155e+01,  0.00000000e+00,  5.50314465e+00,\n",
       "         9.00000000e-01],\n",
       "       [ 5.35077289e+00, -2.97265161e+00,  3.93081761e+00,\n",
       "         5.00000000e-01],\n",
       "       [ 7.72889417e+00,  0.00000000e+00,  5.50314465e+00,\n",
       "         6.00000000e-01],\n",
       "       [ 4.16171225e+00,  2.37812128e+00,  7.07547170e+00,\n",
       "         9.00000000e-01],\n",
       "       [ 5.94530321e-01,  0.00000000e+00,  4.71698113e+00,\n",
       "         4.00000000e-01],\n",
       "       [ 1.09552350e+03,  5.76312507e+02,  7.41539132e+02,\n",
       "         9.95056008e+01],\n",
       "       [ 1.13523939e+03,  5.77416785e+02,  7.41223230e+02,\n",
       "         9.93510456e+01],\n",
       "       [ 1.12652066e+03,  5.67558454e+02,  7.53862931e+02,\n",
       "         9.85101788e+01],\n",
       "       [ 1.11076289e+03,  5.72739333e+02,  7.44088954e+02,\n",
       "         9.89853505e+01],\n",
       "       [ 1.11067477e+03,  5.71991876e+02,  7.51023437e+02,\n",
       "         9.81836636e+01],\n",
       "       [ 1.10699370e+03,  5.77759473e+02,  7.32402195e+02,\n",
       "         9.74243389e+01],\n",
       "       [ 1.11367746e+03,  5.73034834e+02,  7.61627857e+02,\n",
       "         9.73826976e+01],\n",
       "       [ 1.12062253e+03,  5.72233703e+02,  7.52410876e+02,\n",
       "         9.89137120e+01],\n",
       "       [ 1.13529187e+03,  5.81404710e+02,  7.39058998e+02,\n",
       "         9.89568877e+01],\n",
       "       [ 1.12338298e+03,  5.81239001e+02,  7.45720832e+02,\n",
       "         1.01425590e+02]])"
      ]
     },
     "execution_count": 69,
     "metadata": {},
     "output_type": "execute_result"
    }
   ],
   "source": [
    "from sklearn.preprocessing import RobustScaler\n",
    "robust = RobustScaler(quantile_range = (0.1,0.9))\n",
    "robust.fit_transform(X)"
   ]
  },
  {
   "cell_type": "code",
   "execution_count": 65,
   "id": "7461bf4d",
   "metadata": {},
   "outputs": [],
   "source": [
    "X_robus = RobustScaler().fit_transform(X)"
   ]
  },
  {
   "cell_type": "code",
   "execution_count": 71,
   "id": "09df3dd3",
   "metadata": {},
   "outputs": [
    {
     "data": {
      "text/plain": [
       "<matplotlib.legend.Legend at 0x1a885068880>"
      ]
     },
     "execution_count": 71,
     "metadata": {},
     "output_type": "execute_result"
    },
    {
     "data": {
      "image/png": "[encoded data removed]",
      "text/plain": [
       "<Figure size 640x480 with 1 Axes>"
      ]
     },
     "metadata": {},
     "output_type": "display_data"
    }
   ],
   "source": [
    "#plt.scatter(X[:,2],X[:,3], alpha=0.5, label='Original')\n",
    "#plt.scatter(X_minmax[:,2],X_minmax[:,3],label='MinMax')\n",
    "#plt.scatter(X_standar[:,2],X_standar[:,3],label=\"Standar\")\n",
    "plt.scatter(X_robus[:,2],X_robus[:,3], alpha=0.5,label='Robus')\n",
    "plt.legend()"
   ]
  },
  {
   "cell_type": "code",
   "execution_count": null,
   "id": "708b341d",
   "metadata": {},
   "outputs": [],
   "source": []
  }
 ],
 "metadata": {
  "kernelspec": {
   "display_name": "Python 3 (ipykernel)",
   "language": "python",
   "name": "python3"
  },
  "language_info": {
   "codemirror_mode": {
    "name": "ipython",
    "version": 3
   },
   "file_extension": ".py",
   "mimetype": "text/x-python",
   "name": "python",
   "nbconvert_exporter": "python",
   "pygments_lexer": "ipython3",
   "version": "3.9.13"
  }
 },
 "nbformat": 4,
 "nbformat_minor": 5
}
