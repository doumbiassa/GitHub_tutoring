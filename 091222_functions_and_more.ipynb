{
 "cells": [
  {
   "cell_type": "markdown",
   "id": "eef35a87",
   "metadata": {},
   "source": [
    "* Bsic Operations\n",
    "     * Comparison Operators\n",
    "     * if, elif, else ststements\n",
    "     * for loops\n",
    "     * while loops\n",
    "     * range()\n",
    "     * list comprehension\n",
    "     * functions\n",
    "     * lambda expressions\n",
    "     * map and filter"
   ]
  },
  {
   "cell_type": "markdown",
   "id": "8d8cbb92",
   "metadata": {},
   "source": [
    "* ## Range()"
   ]
  },
  {
   "cell_type": "code",
   "execution_count": null,
   "id": "541c7aaf",
   "metadata": {},
   "outputs": [],
   "source": [
    "range(1,11) # This will return 1,2,3,4,5,6,7,8,9,10\n",
    "#Will return Numbers between 1 includ and 11 excluded\n"
   ]
  },
  {
   "cell_type": "code",
   "execution_count": null,
   "id": "ebcac101",
   "metadata": {},
   "outputs": [],
   "source": [
    "range(1,11,2) # This will return 1,3,5,7,9"
   ]
  },
  {
   "cell_type": "code",
   "execution_count": null,
   "id": "81af1001",
   "metadata": {},
   "outputs": [],
   "source": [
    "for num in range(1,11):\n",
    "    print(num)"
   ]
  },
  {
   "cell_type": "code",
   "execution_count": null,
   "id": "04f312df",
   "metadata": {},
   "outputs": [],
   "source": [
    "for _ in range(1,11):\n",
    "    print(_)"
   ]
  },
  {
   "cell_type": "code",
   "execution_count": null,
   "id": "5c963643",
   "metadata": {},
   "outputs": [],
   "source": [
    "for num in range(1,12,2):\n",
    "    print(num)"
   ]
  },
  {
   "cell_type": "code",
   "execution_count": null,
   "id": "c4271e02",
   "metadata": {},
   "outputs": [],
   "source": [
    "for num in range(1,12,2):\n",
    "    print(num**2)"
   ]
  },
  {
   "cell_type": "code",
   "execution_count": 5,
   "id": "57ecc2eb",
   "metadata": {},
   "outputs": [
    {
     "name": "stdout",
     "output_type": "stream",
     "text": [
      "Odd number\n",
      "Even number\n",
      "Odd number\n",
      "Even number\n"
     ]
    }
   ],
   "source": [
    "for num in range(1,11,3):\n",
    "    if num % 2== 0:\n",
    "        print('Even number')\n",
    "    else:\n",
    "        print('Odd number')"
   ]
  },
  {
   "cell_type": "markdown",
   "id": "6876d4a8",
   "metadata": {},
   "source": [
    "* ## While loop"
   ]
  },
  {
   "cell_type": "code",
   "execution_count": 2,
   "id": "e19871b4",
   "metadata": {},
   "outputs": [
    {
     "name": "stdout",
     "output_type": "stream",
     "text": [
      "Odd number\n",
      "Even number\n",
      "Odd number\n",
      "Even number\n",
      "Odd number\n",
      "Even number\n",
      "Odd number\n",
      "Even number\n",
      "Odd number\n",
      "Even number\n"
     ]
    }
   ],
   "source": [
    "num = 1\n",
    "while num <11:\n",
    "    if num %2 != 0:\n",
    "        print('Odd number')\n",
    "    else:\n",
    "        print('Even number')\n",
    "    num = num+1"
   ]
  },
  {
   "cell_type": "markdown",
   "id": "0955ddef",
   "metadata": {},
   "source": [
    "* # List Comprehension"
   ]
  },
  {
   "cell_type": "code",
   "execution_count": null,
   "id": "d9b6efbc",
   "metadata": {},
   "outputs": [],
   "source": [
    "for num in range(1,11,3):\n",
    "    if num % 2== 0:\n",
    "        print('Even number')\n",
    "    else:\n",
    "        print('Odd number')"
   ]
  },
  {
   "cell_type": "code",
   "execution_count": 7,
   "id": "1bca9fc2",
   "metadata": {},
   "outputs": [
    {
     "name": "stdout",
     "output_type": "stream",
     "text": [
      "Even Number\n",
      "Odd number\n",
      "Even Number\n",
      "Odd number\n",
      "Even Number\n",
      "Odd number\n",
      "Even Number\n",
      "Odd number\n",
      "Even Number\n",
      "Odd number\n",
      "Even Number\n"
     ]
    }
   ],
   "source": [
    "w_list=[print('Even Number') if num %2 == 0 else print('Odd number') for num in range(11)]"
   ]
  },
  {
   "cell_type": "code",
   "execution_count": 8,
   "id": "49012606",
   "metadata": {},
   "outputs": [
    {
     "data": {
      "text/plain": [
       "[None, None, None, None, None, None, None, None, None, None, None]"
      ]
     },
     "execution_count": 8,
     "metadata": {},
     "output_type": "execute_result"
    }
   ],
   "source": [
    "w_list"
   ]
  },
  {
   "cell_type": "code",
   "execution_count": 2,
   "id": "3458cac9",
   "metadata": {},
   "outputs": [
    {
     "name": "stdout",
     "output_type": "stream",
     "text": [
      "[1, 4, 9, 16, 25, 36, 49, 64, 81, 100]\n"
     ]
    }
   ],
   "source": [
    "my_list= []\n",
    "for num in range(1,11,1):\n",
    "    my_list.append(num**2)\n",
    "    num += 1\n",
    "print(my_list)"
   ]
  },
  {
   "cell_type": "code",
   "execution_count": 3,
   "id": "c2de0a39",
   "metadata": {},
   "outputs": [
    {
     "data": {
      "text/plain": [
       "[0, 1, 4, 9, 16, 25, 36, 49, 64, 81, 100]"
      ]
     },
     "execution_count": 3,
     "metadata": {},
     "output_type": "execute_result"
    }
   ],
   "source": [
    "[num**2  for num in range(11)]"
   ]
  },
  {
   "cell_type": "code",
   "execution_count": 5,
   "id": "9fae42b7",
   "metadata": {},
   "outputs": [
    {
     "data": {
      "text/plain": [
       "[[0, 3, 6, 9], [0, 3, 6, 9], [0, 3, 6, 9], [0, 3, 6, 9], [0, 3, 6, 9]]"
      ]
     },
     "execution_count": 5,
     "metadata": {},
     "output_type": "execute_result"
    }
   ],
   "source": [
    "[[num*3 for num in range(4)] for num in range(5)]"
   ]
  },
  {
   "cell_type": "markdown",
   "id": "cab1ec04",
   "metadata": {},
   "source": [
    "* ## Dictionary comprehension"
   ]
  },
  {
   "cell_type": "code",
   "execution_count": 6,
   "id": "08208c3d",
   "metadata": {},
   "outputs": [],
   "source": [
    "name = ['Moussa','Sall','Idris','George']"
   ]
  },
  {
   "cell_type": "code",
   "execution_count": 7,
   "id": "2d9fbe0f",
   "metadata": {},
   "outputs": [],
   "source": [
    "dico = {k:v for k,v in enumerate(name)}"
   ]
  },
  {
   "cell_type": "code",
   "execution_count": 8,
   "id": "22e12342",
   "metadata": {},
   "outputs": [
    {
     "data": {
      "text/plain": [
       "{0: 'Moussa', 1: 'Sall', 2: 'Idris', 3: 'George'}"
      ]
     },
     "execution_count": 8,
     "metadata": {},
     "output_type": "execute_result"
    }
   ],
   "source": [
    "dico"
   ]
  },
  {
   "cell_type": "code",
   "execution_count": 10,
   "id": "4d89360b",
   "metadata": {},
   "outputs": [],
   "source": [
    "gpa = [4,3.9,3.8,3.5]"
   ]
  },
  {
   "cell_type": "code",
   "execution_count": 11,
   "id": "c1c19669",
   "metadata": {},
   "outputs": [
    {
     "data": {
      "text/plain": [
       "{'Moussa': 4, 'Sall': 3.9, 'Idris': 3.8, 'George': 3.5}"
      ]
     },
     "execution_count": 11,
     "metadata": {},
     "output_type": "execute_result"
    }
   ],
   "source": [
    "name_gpg = {k:v for k,v in zip(name,gpa)}\n",
    "name_gpg"
   ]
  },
  {
   "cell_type": "code",
   "execution_count": 12,
   "id": "27bd1897",
   "metadata": {},
   "outputs": [],
   "source": [
    "def quare_roots_func(num):\n",
    "    result = num**0.5\n",
    "    return result"
   ]
  },
  {
   "cell_type": "code",
   "execution_count": 13,
   "id": "59a4c94e",
   "metadata": {},
   "outputs": [
    {
     "data": {
      "text/plain": [
       "1.4142135623730951"
      ]
     },
     "execution_count": 13,
     "metadata": {},
     "output_type": "execute_result"
    }
   ],
   "source": [
    "quare_roots_func(2)"
   ]
  },
  {
   "cell_type": "code",
   "execution_count": null,
   "id": "f2347069",
   "metadata": {},
   "outputs": [],
   "source": [
    "my_list= []\n",
    "for num in range(1,11,1):\n",
    "    my_list.append(num**2)\n",
    "    num += 1\n",
    "print(my_list)"
   ]
  },
  {
   "cell_type": "code",
   "execution_count": 14,
   "id": "69706097",
   "metadata": {},
   "outputs": [],
   "source": [
    "def square_func(val):\n",
    "    my_list = []\n",
    "    for val in range(1,11):\n",
    "        my_list.append(val**2)\n",
    "        val = val+1\n",
    "    return my_list"
   ]
  },
  {
   "cell_type": "code",
   "execution_count": 15,
   "id": "07f9c76c",
   "metadata": {},
   "outputs": [
    {
     "data": {
      "text/plain": [
       "[1, 4, 9, 16, 25, 36, 49, 64, 81, 100]"
      ]
     },
     "execution_count": 15,
     "metadata": {},
     "output_type": "execute_result"
    }
   ],
   "source": [
    "my_list"
   ]
  },
  {
   "cell_type": "code",
   "execution_count": null,
   "id": "ffce4485",
   "metadata": {},
   "outputs": [],
   "source": []
  }
 ],
 "metadata": {
  "kernelspec": {
   "display_name": "Python 3 (ipykernel)",
   "language": "python",
   "name": "python3"
  },
  "language_info": {
   "codemirror_mode": {
    "name": "ipython",
    "version": 3
   },
   "file_extension": ".py",
   "mimetype": "text/x-python",
   "name": "python",
   "nbconvert_exporter": "python",
   "pygments_lexer": "ipython3",
   "version": "3.9.12"
  }
 },
 "nbformat": 4,
 "nbformat_minor": 5
}
