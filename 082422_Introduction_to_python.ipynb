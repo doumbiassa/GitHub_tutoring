{
 "cells": [
  {
   "cell_type": "markdown",
   "id": "8edd1ff7",
   "metadata": {},
   "source": [
    "# This is our first python class for data science"
   ]
  },
  {
   "cell_type": "code",
   "execution_count": 1,
   "id": "11add2a5",
   "metadata": {},
   "outputs": [
    {
     "name": "stdout",
     "output_type": "stream",
     "text": [
      "Hello World!\n"
     ]
    }
   ],
   "source": [
    "print('Hello World!')"
   ]
  },
  {
   "cell_type": "code",
   "execution_count": null,
   "id": "86440c08",
   "metadata": {},
   "outputs": [],
   "source": [
    "'''  '''"
   ]
  },
  {
   "cell_type": "code",
   "execution_count": 9,
   "id": "9f7bf296",
   "metadata": {},
   "outputs": [
    {
     "data": {
      "text/plain": [
       "' We currently maintain 622 data sets as a service to the machine learning community. You may view all data sets through our searchable interface. For a general overview of the Repository, please visit our About page. For information about citing data sets in publications, please read our citation policy. If you wish to donate a data set, please consult our donation policy. For any other questions, feel free to contact the Repository librarians.'"
      ]
     },
     "execution_count": 9,
     "metadata": {},
     "output_type": "execute_result"
    }
   ],
   "source": [
    "''' We currently maintain 622 data sets as a service to the machine learning community. You may view all data sets through our searchable interface. For a general overview of the Repository, please visit our About page. For information about citing data sets in publications, please read our citation policy. If you wish to donate a data set, please consult our donation policy. For any other questions, feel free to contact the Repository librarians.'''"
   ]
  },
  {
   "cell_type": "code",
   "execution_count": 2,
   "id": "7665901c",
   "metadata": {},
   "outputs": [
    {
     "name": "stdout",
     "output_type": "stream",
     "text": [
      "1\n"
     ]
    }
   ],
   "source": [
    "print(21%2)"
   ]
  },
  {
   "cell_type": "code",
   "execution_count": null,
   "id": "8887a8d0",
   "metadata": {},
   "outputs": [],
   "source": []
  }
 ],
 "metadata": {
  "kernelspec": {
   "display_name": "Python 3 (ipykernel)",
   "language": "python",
   "name": "python3"
  },
  "language_info": {
   "codemirror_mode": {
    "name": "ipython",
    "version": 3
   },
   "file_extension": ".py",
   "mimetype": "text/x-python",
   "name": "python",
   "nbconvert_exporter": "python",
   "pygments_lexer": "ipython3",
   "version": "3.9.12"
  }
 },
 "nbformat": 4,
 "nbformat_minor": 5
}
